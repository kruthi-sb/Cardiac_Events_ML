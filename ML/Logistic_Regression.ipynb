{
 "cells": [
  {
   "attachments": {},
   "cell_type": "markdown",
   "metadata": {},
   "source": [
    "Import Data"
   ]
  },
  {
   "cell_type": "code",
   "execution_count": 120,
   "metadata": {},
   "outputs": [],
   "source": [
    "#import DataFetcher class from file heart_data.py\n",
    "import DataFetcher #importing the file DataFetcher.py from the folder data\n",
    "data_fetcher = DataFetcher.DataFetcher(\"C:\\\\Users\\\\kruth\\\\OneDrive\\\\Desktop\\\\Cardiac_Events_ML\\\\preprocessing\\\\final_dataset.csv\")\n",
    "X_train = data_fetcher.get_X_train()\n",
    "X_test = data_fetcher.get_X_test()\n",
    "y_train = data_fetcher.get_y_train()\n",
    "y_test = data_fetcher.get_y_test()\n",
    "features = data_fetcher.get_features()\n",
    "target_names = data_fetcher.get_target_names()\n",
    "X = data_fetcher.get_X()\n",
    "y = data_fetcher.get_y()"
   ]
  },
  {
   "attachments": {},
   "cell_type": "markdown",
   "metadata": {},
   "source": [
    "Feature Scaling"
   ]
  },
  {
   "cell_type": "code",
   "execution_count": 121,
   "metadata": {},
   "outputs": [],
   "source": [
    "#scaling the feature dataset:\n",
    "from sklearn.preprocessing import StandardScaler \n",
    "# fit the Scaler\n",
    "scaler = StandardScaler() #creating an instance of the StandardScaler class.\n",
    "#Scaling the values such that the mean is 0 and std deviation is 1.\n",
    "scaler.fit(X_train) #fitting the scaler to the training set.\n",
    "X_train = scaler.transform(X_train) #transforming the training set. \n",
    "X_test = scaler.transform(X_test) #transforming the testing set."
   ]
  },
  {
   "attachments": {},
   "cell_type": "markdown",
   "metadata": {},
   "source": [
    "Initial Model"
   ]
  },
  {
   "cell_type": "code",
   "execution_count": 122,
   "metadata": {},
   "outputs": [
    {
     "name": "stdout",
     "output_type": "stream",
     "text": [
      "\n",
      "----------Initial Logistic Regression Metrics----------\n",
      "\n",
      "Accuracy: 0.8666666666666667\n",
      "Precision: 0.868421052631579\n",
      "Recall: 0.9166666666666666\n",
      "F1 Score: 0.8918918918918918\n",
      "\n",
      "----------Initial Classification Report----------\n",
      "\n",
      "              precision    recall  f1-score   support\n",
      "\n",
      "           0       0.86      0.79      0.83        24\n",
      "           1       0.87      0.92      0.89        36\n",
      "\n",
      "    accuracy                           0.87        60\n",
      "   macro avg       0.87      0.85      0.86        60\n",
      "weighted avg       0.87      0.87      0.87        60\n",
      "\n"
     ]
    }
   ],
   "source": [
    "#import the LogisticRegression class from sklearn.linear_model\n",
    "from sklearn.linear_model import LogisticRegression\n",
    "\n",
    "# train the model\n",
    "lr_1 = LogisticRegression()\n",
    "\n",
    "#fitting the model to the training set.\n",
    "lr_1.fit(X_train, y_train) \n",
    "\n",
    "# make predictions on the test dataset\n",
    "y_pred_1 = lr_1.predict(X_test)\n",
    "\n",
    "#---------------------------------Evaluating the model---------------------------------\n",
    "\n",
    "# Evaluate the model performance\n",
    "from sklearn.metrics import accuracy_score, precision_score, recall_score, f1_score\n",
    "print(\"\\n----------Initial Logistic Regression Metrics----------\\n\")\n",
    "print(\"Accuracy:\", accuracy_score(y_test, y_pred_1))\n",
    "print(\"Precision:\", precision_score(y_test, y_pred_1))\n",
    "print(\"Recall:\", recall_score(y_test, y_pred_1))\n",
    "print(\"F1 Score:\", f1_score(y_test, y_pred_1))\n",
    "#meaning of accuracy score: 0.9 means 90% of the predictions are correct\n",
    "\n",
    "#classification_report\n",
    "print(\"\\n----------Initial Classification Report----------\\n\")\n",
    "from sklearn.metrics import classification_report\n",
    "cr = classification_report(y_test, y_pred_1)\n",
    "print(cr)"
   ]
  },
  {
   "attachments": {},
   "cell_type": "markdown",
   "metadata": {},
   "source": [
    "Hyperparameter Tuning using Grid Search"
   ]
  },
  {
   "cell_type": "code",
   "execution_count": 123,
   "metadata": {},
   "outputs": [
    {
     "name": "stdout",
     "output_type": "stream",
     "text": [
      "\n",
      "best estimator:  LogisticRegression(C=0.01, random_state=42, solver='liblinear')\n",
      "best score:   0.8316819867763264\n"
     ]
    }
   ],
   "source": [
    "#perform grid search to find the best parameters for the model\n",
    "#NOTE: Grid Search also performs cross validation to find the best parameters.\n",
    "\n",
    "from sklearn.model_selection import GridSearchCV\n",
    "#creating a dictionary of parameters to be used in the grid search:\n",
    "param_grid = {'C': [0.0001,0.001, 0.01],\n",
    "                'solver': ['liblinear','saga', 'sag', 'lbfgs', 'newton-cg','newton-cholesky'],\n",
    "                'max_iter': [100],\n",
    "                'random_state': [42]\n",
    "                }\n",
    "#creating an instance of the GridSearchCV class:\n",
    "grid = GridSearchCV(LogisticRegression(), param_grid, cv = 5, scoring='f1')\n",
    "\n",
    "#fitting the grid search to the training set:\n",
    "lr_tuned = grid.fit(X_train, y_train)\n",
    "#finding the best estimator:\n",
    "print(\"\\nbest estimator: \", lr_tuned.best_estimator_)\n",
    "#finding the best score:\n",
    "print(\"best score:  \", lr_tuned.best_score_)"
   ]
  },
  {
   "attachments": {},
   "cell_type": "markdown",
   "metadata": {},
   "source": [
    "Testing of Final Model"
   ]
  },
  {
   "cell_type": "code",
   "execution_count": 124,
   "metadata": {},
   "outputs": [
    {
     "name": "stdout",
     "output_type": "stream",
     "text": [
      "\n",
      "----------Logistic Regression Metrics----------\n",
      "\n",
      "Accuracy: 0.9\n",
      "Precision: 0.875\n",
      "Recall: 0.9722222222222222\n",
      "F1 Score: 0.9210526315789473\n",
      "\n",
      "----------Classification Report----------\n",
      "\n",
      "              precision    recall  f1-score   support\n",
      "\n",
      "           0       0.95      0.79      0.86        24\n",
      "           1       0.88      0.97      0.92        36\n",
      "\n",
      "    accuracy                           0.90        60\n",
      "   macro avg       0.91      0.88      0.89        60\n",
      "weighted avg       0.90      0.90      0.90        60\n",
      "\n"
     ]
    }
   ],
   "source": [
    "#test the new model with hyperparameters tuned by grid search:\n",
    "#make predictions on the test dataset\n",
    "y_pred = lr_tuned.predict(X_test)\n",
    "\n",
    "# Evaluate the model performance\n",
    "from sklearn.metrics import accuracy_score, precision_score, recall_score, f1_score\n",
    "print(\"\\n----------Logistic Regression Metrics----------\\n\")\n",
    "print(\"Accuracy:\", accuracy_score(y_test, y_pred))\n",
    "print(\"Precision:\", precision_score(y_test, y_pred))\n",
    "print(\"Recall:\", recall_score(y_test, y_pred))\n",
    "print(\"F1 Score:\", f1_score(y_test, y_pred))\n",
    "\n",
    "#classification_report\n",
    "print(\"\\n----------Classification Report----------\\n\")\n",
    "from sklearn.metrics import classification_report\n",
    "cr = classification_report(y_test, y_pred)\n",
    "print(cr)\n"
   ]
  },
  {
   "attachments": {},
   "cell_type": "markdown",
   "metadata": {},
   "source": [
    "**Evaluation**"
   ]
  },
  {
   "attachments": {},
   "cell_type": "markdown",
   "metadata": {},
   "source": [
    "Confusion Matrix"
   ]
  },
  {
   "cell_type": "code",
   "execution_count": 125,
   "metadata": {},
   "outputs": [
    {
     "name": "stdout",
     "output_type": "stream",
     "text": [
      "[[19  5]\n",
      " [ 1 35]]\n"
     ]
    },
    {
     "data": {
      "image/png": "[encoded data removed]",
      "text/plain": [
       "<Figure size 800x550 with 2 Axes>"
      ]
     },
     "metadata": {},
     "output_type": "display_data"
    }
   ],
   "source": [
    "#get the confusion matrix\n",
    "from sklearn.metrics import confusion_matrix\n",
    "cm = confusion_matrix(y_test, y_pred)\n",
    "print(cm)\n",
    "\n",
    "#visualize the confusion matrix\n",
    "import matplotlib.pyplot as plt\n",
    "import seaborn as sns\n",
    "sns.heatmap(cm, annot=True, fmt=\"d\") #fmt=\"d\" means the values in the matrix are integers  \n",
    "#annot=True means the values in the matrix are displayed\n",
    "plt.title(\"Confusion Matrix\")\n",
    "plt.xlabel(\"Predicted\")\n",
    "plt.ylabel(\"Actual\")\n",
    "plt.show()"
   ]
  },
  {
   "attachments": {},
   "cell_type": "markdown",
   "metadata": {},
   "source": [
    "Cross Validation"
   ]
  },
  {
   "cell_type": "code",
   "execution_count": 126,
   "metadata": {},
   "outputs": [
    {
     "name": "stdout",
     "output_type": "stream",
     "text": [
      "Fold 0 : 0.7857142857142856\n",
      "Fold 1 : 0.8461538461538461\n",
      "Fold 2 : 0.8799999999999999\n",
      "Fold 3 : 0.8666666666666666\n",
      "Fold 4 : 0.7692307692307693\n",
      "Fold 5 : 0.8461538461538461\n",
      "Fold 6 : 0.8275862068965517\n",
      "Fold 7 : 0.8799999999999999\n",
      "Fold 8 : 0.7826086956521738\n",
      "Fold 9 : 0.7692307692307692\n",
      "\n",
      "Mean: 0.8253345085698907\n",
      "Standard Deviation: 0.04271704023457498\n",
      "Variance: 0.0018247455264022976\n"
     ]
    }
   ],
   "source": [
    "#cross validation for 10 folds\n",
    "\n",
    "from sklearn.model_selection import cross_val_score\n",
    "scores = cross_val_score(lr_tuned, X_train, y_train, cv=10, scoring=\"f1\") #scoring can be accuracy, precision, recall, f1, roc_auc, etc\n",
    "#get the scores for each fold\n",
    "for i in range(10):\n",
    "    print(\"Fold\", i, \":\", scores[i])\n",
    "    \n",
    "#get the mean of the scores\n",
    "print(\"\\nMean:\", scores.mean())\n",
    "#get the standard deviation of the scores\n",
    "print(\"Standard Deviation:\", scores.std()) #standard deviation is calculated for the scores of each fold\n",
    "#A low standard deviation indicates that the model is consistent in its performance across different subsets of the data, which is a good sign.\n",
    "#get the variance of the scores\n",
    "print(\"Variance:\", scores.var()) #variance is calculated for the scores of each fold\n",
    "#A low variance indicates that the model is consistent in its performance across different subsets of the data, which is a good sign.\n",
    "\n",
    "#conclusions:\n",
    "#mean F1 score of 0.825 indicates that the model is achieving a relatively high level of precision and recall on average. \n",
    "#This is a good sign and suggests that the model is likely to perform well on new, unseen data.\n",
    "#The standard deviation is 0.042, which is a good sign.\n",
    "#The variance is 0.0018, which is a good sign.\n"
   ]
  },
  {
   "attachments": {},
   "cell_type": "markdown",
   "metadata": {},
   "source": [
    "Learning Curve"
   ]
  },
  {
   "cell_type": "code",
   "execution_count": 130,
   "metadata": {},
   "outputs": [
    {
     "data": {
      "image/png": "[encoded data removed]",
      "text/plain": [
       "<Figure size 800x550 with 1 Axes>"
      ]
     },
     "metadata": {},
     "output_type": "display_data"
    }
   ],
   "source": [
    "#plot the learning curve for the model\n",
    "#use Recall as the scoring metric because the model should idealy minimize the number of false negatives.\n",
    "from sklearn.model_selection import learning_curve\n",
    "train_sizes, train_scores, test_scores = learning_curve(lr_tuned, X_train, y_train, cv=10, scoring=\"recall\",n_jobs=-1, train_sizes=np.linspace(0.1,1.0,4))\n",
    "#train_sizes: the proportion of the training set to include in the learning curve.\n",
    "#train_sizes=np.linspace(0.1,1.0,4) means the training set size will be 10%, 40%, 70%, and 100% of the training set.\n",
    "#train_scores: the scores for each training subset\n",
    "#test_scores: the scores for each testing subset\n",
    "\n",
    "#plot the learning curve\n",
    "import matplotlib.pyplot as plt\n",
    "import numpy as np\n",
    "plt.plot(train_sizes, np.mean(train_scores, axis=1), label=\"Training Score\")\n",
    "plt.plot(train_sizes, np.mean(test_scores, axis=1), label=\"Cross-Validation Score\")\n",
    "plt.title(\"Learning Curve of Linear Regression\")\n",
    "plt.xlabel(\"Training Set Size\")\n",
    "plt.ylabel(\"Recall Score\")\n",
    "plt.legend(loc=\"best\")\n",
    "plt.tight_layout() \n",
    "plt.show()\n",
    "\n",
    "#conclusions:\n",
    "#1. From the learning curve, we can conclude that we have a good balance between bias and variance.\n",
    "#2. The model is neither overfitting nor underfitting.\n",
    "#3. The learning curve shows that the model is just right.\n",
    "\n"
   ]
  },
  {
   "cell_type": "code",
   "execution_count": null,
   "metadata": {},
   "outputs": [],
   "source": []
  },
  {
   "cell_type": "code",
   "execution_count": null,
   "metadata": {},
   "outputs": [],
   "source": []
  }
 ],
 "metadata": {
  "kernelspec": {
   "display_name": "Python 3",
   "language": "python",
   "name": "python3"
  },
  "language_info": {
   "codemirror_mode": {
    "name": "ipython",
    "version": 3
   },
   "file_extension": ".py",
   "mimetype": "text/x-python",
   "name": "python",
   "nbconvert_exporter": "python",
   "pygments_lexer": "ipython3",
   "version": "3.11.1"
  },
  "orig_nbformat": 4,
  "vscode": {
   "interpreter": {
    "hash": "0058379c129e4629443e4d8323bec08f6392318539cc5f99608b31d35e1b8ca4"
   }
  }
 },
 "nbformat": 4,
 "nbformat_minor": 2
}
