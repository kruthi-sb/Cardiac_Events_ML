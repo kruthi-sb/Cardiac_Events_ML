{
 "cells": [
  {
   "attachments": {},
   "cell_type": "markdown",
   "metadata": {},
   "source": [
    "import:"
   ]
  },
  {
   "cell_type": "code",
   "execution_count": 1,
   "metadata": {},
   "outputs": [
    {
     "name": "stdout",
     "output_type": "stream",
     "text": [
      "\n",
      "------class run complete------\n",
      "\n"
     ]
    }
   ],
   "source": [
    "import graphviz #graphiz is a graph visualization software\n",
    "import sklearn \n",
    "#import DataFetcher class from file heart_data.py\n",
    "import DataFetcher #importing the file DataFetcher.py from the folder data\n",
    "data_fetcher = DataFetcher.DataFetcher(\"C:\\\\Users\\\\kruth\\\\OneDrive\\\\Desktop\\\\Cardiac_Events_ML\\\\preprocessing\\\\final_dataset.csv\")\n",
    "X_train = data_fetcher.get_X_train()\n",
    "X_test = data_fetcher.get_X_test()\n",
    "y_train = data_fetcher.get_y_train()\n",
    "y_test = data_fetcher.get_y_test()\n",
    "features = data_fetcher.get_features()\n",
    "target_names = data_fetcher.get_target_names()\n"
   ]
  },
  {
   "attachments": {},
   "cell_type": "markdown",
   "metadata": {},
   "source": [
    "model:"
   ]
  },
  {
   "cell_type": "code",
   "execution_count": 2,
   "metadata": {},
   "outputs": [
    {
     "name": "stdout",
     "output_type": "stream",
     "text": [
      "Accuracy: 0.9\n",
      "              precision    recall  f1-score   support\n",
      "\n",
      "           0       0.91      0.83      0.87        24\n",
      "           1       0.89      0.94      0.92        36\n",
      "\n",
      "    accuracy                           0.90        60\n",
      "   macro avg       0.90      0.89      0.89        60\n",
      "weighted avg       0.90      0.90      0.90        60\n",
      "\n"
     ]
    }
   ],
   "source": [
    "#NOTE: DON'T REQUIRE SCALING\n",
    "from sklearn.tree import DecisionTreeClassifier\n",
    "\n",
    "# Initialize the model\n",
    "dt_clf = DecisionTreeClassifier(max_depth=4, random_state=42, min_samples_leaf= 2, min_samples_split=20) #4\n",
    "\n",
    "# Fit the model on the training data\n",
    "dt_clf.fit(X_train, y_train)\n",
    "\n",
    "# Make predictions on the test data\n",
    "y_pred = dt_clf.predict(X_test)\n",
    "\n",
    "# Evaluate the model performance\n",
    "from sklearn.metrics import accuracy_score\n",
    "print(\"Accuracy:\", accuracy_score(y_test, y_pred))\n",
    "\n",
    "#import classification_report\n",
    "from sklearn.metrics import classification_report\n",
    "cr1 = classification_report(y_test, y_pred)\n",
    "print(cr1)"
   ]
  },
  {
   "attachments": {},
   "cell_type": "markdown",
   "metadata": {},
   "source": [
    "graph:"
   ]
  },
  {
   "cell_type": "code",
   "execution_count": 3,
   "metadata": {},
   "outputs": [],
   "source": [
    "#visualize the tree using graphviz \n",
    "from sklearn.tree import export_graphviz \n",
    "export_graphviz(\n",
    "        dt_clf, #the decision tree classifier\n",
    "        out_file=\"C:\\\\Users\\\\kruth\\\\OneDrive\\\\Desktop\\\\Cardiac_Events_ML\\\\ML\\\\heart_tree4.dot\", #the file to which the tree is exported\n",
    "        feature_names= features, \n",
    "        class_names=target_names, \n",
    "        rounded=True, #rounded corners\n",
    "        filled=True #color the boxes\n",
    ")\n",
    "\n",
    "#convert the dot file to png file in cmd\n",
    "#use the following command:\n",
    "#dot -Tpng heart_tree4.dot -o heart_tree.png"
   ]
  },
  {
   "cell_type": "code",
   "execution_count": null,
   "metadata": {},
   "outputs": [],
   "source": []
  }
 ],
 "metadata": {
  "kernelspec": {
   "display_name": "Python 3",
   "language": "python",
   "name": "python3"
  },
  "language_info": {
   "codemirror_mode": {
    "name": "ipython",
    "version": 3
   },
   "file_extension": ".py",
   "mimetype": "text/x-python",
   "name": "python",
   "nbconvert_exporter": "python",
   "pygments_lexer": "ipython3",
   "version": "3.11.1"
  },
  "orig_nbformat": 4,
  "vscode": {
   "interpreter": {
    "hash": "0058379c129e4629443e4d8323bec08f6392318539cc5f99608b31d35e1b8ca4"
   }
  }
 },
 "nbformat": 4,
 "nbformat_minor": 2
}
