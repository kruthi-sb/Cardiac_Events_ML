{
 "cells": [
  {
   "attachments": {},
   "cell_type": "markdown",
   "metadata": {},
   "source": [
    "Import Data"
   ]
  },
  {
   "cell_type": "code",
   "execution_count": 2,
   "metadata": {},
   "outputs": [
    {
     "name": "stdout",
     "output_type": "stream",
     "text": [
      "\n",
      "------class run complete------\n",
      "\n"
     ]
    }
   ],
   "source": [
    "#import DataFetcher class from file heart_data.py\n",
    "import DataFetcher #importing the file DataFetcher.py from the folder data\n",
    "data_fetcher = DataFetcher.DataFetcher(\"C:\\\\Users\\\\kruth\\\\OneDrive\\\\Desktop\\\\Cardiac_Events_ML\\\\preprocessing\\\\final_dataset.csv\")\n",
    "X_train = data_fetcher.get_X_train()\n",
    "X_test = data_fetcher.get_X_test()\n",
    "y_train = data_fetcher.get_y_train()\n",
    "y_test = data_fetcher.get_y_test()\n",
    "features = data_fetcher.get_features()\n",
    "target_names = data_fetcher.get_target_names()\n",
    "X = data_fetcher.get_X()\n",
    "y = data_fetcher.get_y()"
   ]
  },
  {
   "attachments": {},
   "cell_type": "markdown",
   "metadata": {},
   "source": [
    "Feature Scaling"
   ]
  },
  {
   "cell_type": "code",
   "execution_count": 3,
   "metadata": {},
   "outputs": [],
   "source": [
    "#scaling the feature dataset:\n",
    "from sklearn.preprocessing import StandardScaler \n",
    "# fit the Scaler\n",
    "scaler = StandardScaler() #creating an instance of the StandardScaler class.\n",
    "#Scaling the values such that the mean is 0 and std deviation is 1.\n",
    "scaler.fit(X_train) #fitting the scaler to the training set.\n",
    "X_train = scaler.transform(X_train) #transforming the training set. \n",
    "X_test = scaler.transform(X_test) #transforming the testing set."
   ]
  },
  {
   "cell_type": "code",
   "execution_count": 89,
   "metadata": {},
   "outputs": [
    {
     "name": "stdout",
     "output_type": "stream",
     "text": [
      "\n",
      "----------KNN Metrics----------\n",
      "\n",
      "Accuracy: 0.9166666666666666\n",
      "Precision: 0.8974358974358975\n",
      "Recall: 0.9722222222222222\n",
      "F1 Score: 0.9333333333333333\n",
      "\n",
      "----------Classification Report----------\n",
      "\n",
      "              precision    recall  f1-score   support\n",
      "\n",
      "           0       0.95      0.83      0.89        24\n",
      "           1       0.90      0.97      0.93        36\n",
      "\n",
      "    accuracy                           0.92        60\n",
      "   macro avg       0.92      0.90      0.91        60\n",
      "weighted avg       0.92      0.92      0.92        60\n",
      "\n"
     ]
    }
   ],
   "source": [
    "from sklearn.neighbors import KNeighborsClassifier\n",
    "\n",
    "# Initialize the model\n",
    "knn_clf = KNeighborsClassifier(n_neighbors= 9, p = 2)\n",
    "\n",
    "# Fit the model on the training data\n",
    "knn_clf.fit(X_train, y_train)\n",
    "\n",
    "# Make predictions on the test data\n",
    "y_pred = knn_clf.predict(X_test)\n",
    "\n",
    "#---------------------------------Evaluating the model---------------------------------\n",
    "\n",
    "# Evaluate the model performance\n",
    "from sklearn.metrics import accuracy_score, precision_score, recall_score, f1_score\n",
    "print(\"\\n----------KNN Metrics----------\\n\")\n",
    "print(\"Accuracy:\", accuracy_score(y_test, y_pred))\n",
    "print(\"Precision:\", precision_score(y_test, y_pred))\n",
    "print(\"Recall:\", recall_score(y_test, y_pred))\n",
    "print(\"F1 Score:\", f1_score(y_test, y_pred))\n",
    "#meaning of accuracy score: 0.9 means 90% of the predictions are correct\n",
    "\n",
    "#classification_report\n",
    "print(\"\\n----------Classification Report----------\\n\")\n",
    "from sklearn.metrics import classification_report\n",
    "cr = classification_report(y_test, y_pred)\n",
    "print(cr)"
   ]
  },
  {
   "attachments": {},
   "cell_type": "markdown",
   "metadata": {},
   "source": [
    "Confusion Matrix"
   ]
  },
  {
   "cell_type": "code",
   "execution_count": 90,
   "metadata": {},
   "outputs": [
    {
     "name": "stdout",
     "output_type": "stream",
     "text": [
      "[[20  4]\n",
      " [ 1 35]]\n"
     ]
    },
    {
     "data": {
      "image/png": "[encoded data removed]",
      "text/plain": [
       "<Figure size 640x480 with 2 Axes>"
      ]
     },
     "metadata": {},
     "output_type": "display_data"
    }
   ],
   "source": [
    "#get the confusion matrix\n",
    "from sklearn.metrics import confusion_matrix\n",
    "cm = confusion_matrix(y_test, y_pred)\n",
    "print(cm)\n",
    "\n",
    "#visualize the confusion matrix\n",
    "import matplotlib.pyplot as plt\n",
    "import seaborn as sns\n",
    "sns.heatmap(cm, annot=True, fmt=\"d\") #fmt=\"d\" means the values in the matrix are integers  \n",
    "#annot=True means the values in the matrix are displayed\n",
    "plt.title(\"Confusion Matrix\")\n",
    "plt.xlabel(\"Predicted\")\n",
    "plt.ylabel(\"Actual\")\n",
    "plt.show()"
   ]
  },
  {
   "attachments": {},
   "cell_type": "markdown",
   "metadata": {},
   "source": [
    "Grid Search"
   ]
  },
  {
   "cell_type": "code",
   "execution_count": 93,
   "metadata": {},
   "outputs": [
    {
     "name": "stdout",
     "output_type": "stream",
     "text": [
      "Tuned KNN Parameters: {'n_neighbors': 9, 'p': 2}\n",
      "Best score is 0.8282608695652176\n"
     ]
    }
   ],
   "source": [
    "#perform grid search for different neighbors\n",
    "from sklearn.model_selection import GridSearchCV\n",
    "import numpy as np\n",
    "param_grid = {'n_neighbors': np.arange(1, 50), 'p': [1,2]}\n",
    "knn = KNeighborsClassifier()\n",
    "knn_cv = GridSearchCV(knn, param_grid, cv=10)\n",
    "knn_cv.fit(X_train, y_train)\n",
    "print(\"Tuned KNN Parameters: {}\".format(knn_cv.best_params_))\n",
    "print(\"Best score is {}\".format(knn_cv.best_score_))"
   ]
  },
  {
   "attachments": {},
   "cell_type": "markdown",
   "metadata": {},
   "source": [
    "Cross Validation"
   ]
  },
  {
   "cell_type": "code",
   "execution_count": 94,
   "metadata": {},
   "outputs": [
    {
     "name": "stdout",
     "output_type": "stream",
     "text": [
      "Fold 0 : 0.7916666666666666\n",
      "Fold 1 : 0.8333333333333334\n",
      "Fold 2 : 0.7916666666666666\n",
      "Fold 3 : 0.875\n",
      "Fold 4 : 0.8333333333333334\n",
      "Fold 5 : 0.875\n",
      "Fold 6 : 0.7916666666666666\n",
      "Fold 7 : 0.9166666666666666\n",
      "Fold 8 : 0.7916666666666666\n",
      "Fold 9 : 0.782608695652174\n",
      "Mean: 0.8282608695652176\n",
      "Standard Deviation: 0.04435854043158715\n"
     ]
    }
   ],
   "source": [
    "#cross validaayion for 10 folds\n",
    "from sklearn.model_selection import cross_val_score\n",
    "scores = cross_val_score(knn_clf, X_train, y_train, cv=10, scoring=\"accuracy\") #scorinf can be accuracy, precision, recall, f1, roc_auc, etc\n",
    "#get the scores for each fold\n",
    "for i in range(10):\n",
    "    print(\"Fold\", i, \":\", scores[i])\n",
    "#get the mean of the scores\n",
    "print(\"Mean:\", scores.mean())\n",
    "#get the standard deviation of the scores\n",
    "print(\"Standard Deviation:\", scores.std()) #the lower the standard deviation, the better the model\n",
    "#standard deviation is calculated for the scores of each fold"
   ]
  },
  {
   "cell_type": "code",
   "execution_count": null,
   "metadata": {},
   "outputs": [],
   "source": []
  }
 ],
 "metadata": {
  "kernelspec": {
   "display_name": "Python 3",
   "language": "python",
   "name": "python3"
  },
  "language_info": {
   "codemirror_mode": {
    "name": "ipython",
    "version": 3
   },
   "file_extension": ".py",
   "mimetype": "text/x-python",
   "name": "python",
   "nbconvert_exporter": "python",
   "pygments_lexer": "ipython3",
   "version": "3.11.1"
  },
  "orig_nbformat": 4,
  "vscode": {
   "interpreter": {
    "hash": "0058379c129e4629443e4d8323bec08f6392318539cc5f99608b31d35e1b8ca4"
   }
  }
 },
 "nbformat": 4,
 "nbformat_minor": 2
}
