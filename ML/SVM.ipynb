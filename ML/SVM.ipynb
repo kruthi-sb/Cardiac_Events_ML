{
 "cells": [
  {
   "attachments": {},
   "cell_type": "markdown",
   "metadata": {},
   "source": [
    "Import class"
   ]
  },
  {
   "cell_type": "code",
   "execution_count": 1,
   "metadata": {},
   "outputs": [
    {
     "name": "stdout",
     "output_type": "stream",
     "text": [
      "\n",
      "------class run complete------\n",
      "\n"
     ]
    }
   ],
   "source": [
    "#import DataFetcher class from file heart_data.py\n",
    "import DataFetcher #importing the file DataFetcher.py from the folder data\n",
    "data_fetcher = DataFetcher.DataFetcher(\"C:\\\\Users\\\\kruth\\\\OneDrive\\\\Desktop\\\\Cardiac_Events_ML\\\\preprocessing\\\\final_dataset.csv\")\n",
    "X_train = data_fetcher.get_X_train()\n",
    "X_test = data_fetcher.get_X_test()\n",
    "y_train = data_fetcher.get_y_train()\n",
    "y_test = data_fetcher.get_y_test()\n",
    "features = data_fetcher.get_features()\n",
    "target_names = data_fetcher.get_target_names()\n",
    "X = data_fetcher.get_X()\n",
    "y = data_fetcher.get_y()"
   ]
  },
  {
   "cell_type": "code",
   "execution_count": 2,
   "metadata": {},
   "outputs": [
    {
     "name": "stdout",
     "output_type": "stream",
     "text": [
      "              precision    recall  f1-score   support\n",
      "\n",
      "           0       0.95      0.88      0.91        24\n",
      "           1       0.92      0.97      0.95        36\n",
      "\n",
      "    accuracy                           0.93        60\n",
      "   macro avg       0.94      0.92      0.93        60\n",
      "weighted avg       0.93      0.93      0.93        60\n",
      "\n",
      "Accuracy: 0.9333333333333333\n"
     ]
    }
   ],
   "source": [
    "\n",
    "#NOTE: WHEN THE SCALER IS NOT USED, THIS MODEL GIVES MORE ACCURACY!\n",
    "from sklearn.svm import SVC\n",
    "from sklearn.metrics import classification_report\n",
    "\n",
    "# Initialize the model\n",
    "svm = SVC(random_state=42, C=4.0001, kernel='linear', gamma='auto', probability=True)\n",
    "\n",
    "# Fit the model to the training data\n",
    "svm.fit(X_train, y_train)\n",
    "\n",
    "# Make predictions on the test data\n",
    "y_pred = svm.predict(X_test)\n",
    "\n",
    "# Print the classification report\n",
    "print(classification_report(y_test, y_pred))\n",
    "from sklearn.metrics import accuracy_score\n",
    "print(\"Accuracy:\", accuracy_score(y_test, y_pred))"
   ]
  },
  {
   "cell_type": "code",
   "execution_count": 3,
   "metadata": {},
   "outputs": [
    {
     "name": "stdout",
     "output_type": "stream",
     "text": [
      "Fitting 3 folds for each of 40 candidates, totalling 120 fits\n",
      "{'C': 4.0001, 'gamma': 'auto', 'kernel': 'linear', 'probability': True}\n"
     ]
    }
   ],
   "source": [
    "#grid search for best parameters\n",
    "from sklearn.model_selection import GridSearchCV\n",
    "import numpy as np\n",
    "# Create the parameter grid for SVC\n",
    "param_grid = {'C': np.arange(0.0001,10.0), 'kernel': ['linear'], 'gamma': ['auto', 'scale'], 'probability': [True, False]}\n",
    "# Create a based model\n",
    "svc = SVC()\n",
    "# Instantiate the grid search model\n",
    "grid_search = GridSearchCV(svc, param_grid = param_grid, cv = 3, scoring='accuracy', n_jobs = -1, verbose = 2)\n",
    "# Fit the grid search to the data\n",
    "grid_search.fit(X_train, y_train)\n",
    "print(grid_search.best_params_)\n",
    "\n",
    "\n"
   ]
  },
  {
   "cell_type": "code",
   "execution_count": null,
   "metadata": {},
   "outputs": [],
   "source": []
  }
 ],
 "metadata": {
  "kernelspec": {
   "display_name": "Python 3",
   "language": "python",
   "name": "python3"
  },
  "language_info": {
   "codemirror_mode": {
    "name": "ipython",
    "version": 3
   },
   "file_extension": ".py",
   "mimetype": "text/x-python",
   "name": "python",
   "nbconvert_exporter": "python",
   "pygments_lexer": "ipython3",
   "version": "3.11.1"
  },
  "orig_nbformat": 4,
  "vscode": {
   "interpreter": {
    "hash": "0058379c129e4629443e4d8323bec08f6392318539cc5f99608b31d35e1b8ca4"
   }
  }
 },
 "nbformat": 4,
 "nbformat_minor": 2
}
