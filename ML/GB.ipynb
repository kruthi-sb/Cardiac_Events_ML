{
 "cells": [
  {
   "attachments": {},
   "cell_type": "markdown",
   "metadata": {},
   "source": [
    "# Data Import"
   ]
  },
  {
   "cell_type": "code",
   "execution_count": 1,
   "metadata": {},
   "outputs": [
    {
     "name": "stdout",
     "output_type": "stream",
     "text": [
      "\n",
      "------class run complete------\n",
      "\n"
     ]
    }
   ],
   "source": [
    "#import DataFetcher class from file heart_data.py\n",
    "import DataFetcher #importing the file DataFetcher.py from the folder data\n",
    "data_fetcher = DataFetcher.DataFetcher(\"C:\\\\Users\\\\kruth\\\\OneDrive\\\\Desktop\\\\Cardiac_Events_ML\\\\preprocessing\\\\final_dataset.csv\")\n",
    "X_train = data_fetcher.get_X_train()\n",
    "X_test = data_fetcher.get_X_test()\n",
    "y_train = data_fetcher.get_y_train()\n",
    "y_test = data_fetcher.get_y_test()\n",
    "features = data_fetcher.get_features()\n",
    "target_names = data_fetcher.get_target_names()\n",
    "X = data_fetcher.get_X()\n",
    "y = data_fetcher.get_y()"
   ]
  },
  {
   "attachments": {},
   "cell_type": "markdown",
   "metadata": {},
   "source": [
    "# Feature scaling"
   ]
  },
  {
   "cell_type": "code",
   "execution_count": 2,
   "metadata": {},
   "outputs": [],
   "source": [
    "#scaling the feature dataset:\n",
    "from sklearn.preprocessing import StandardScaler \n",
    "#formula for scaling: x_scaled = (x - mean)/std_deviation\n",
    "# fit the Scaler\n",
    "scaler = StandardScaler() #creating an instance of the StandardScaler class.\n",
    "#Scaling the values such that the mean is 0 and std deviation is 1.\n",
    "scaler.fit(X_train) #fitting the scaler to the training set.\n",
    "X_train = scaler.transform(X_train) #transforming the training set. \n",
    "X_test = scaler.transform(X_test) #transforming the testing set."
   ]
  },
  {
   "attachments": {},
   "cell_type": "markdown",
   "metadata": {},
   "source": [
    "# Initial Model"
   ]
  },
  {
   "cell_type": "code",
   "execution_count": 3,
   "metadata": {},
   "outputs": [
    {
     "name": "stdout",
     "output_type": "stream",
     "text": [
      "\n",
      "----------Initial Gradient Boosting Metrics----------\n",
      "\n",
      "Accuracy: 0.8\n",
      "Precision: 0.8529411764705882\n",
      "Recall: 0.8055555555555556\n",
      "F1 Score: 0.8285714285714286\n",
      "\n",
      "----------Initial Classification Report----------\n",
      "\n",
      "              precision    recall  f1-score   support\n",
      "\n",
      "           0       0.73      0.79      0.76        24\n",
      "           1       0.85      0.81      0.83        36\n",
      "\n",
      "    accuracy                           0.80        60\n",
      "   macro avg       0.79      0.80      0.79        60\n",
      "weighted avg       0.80      0.80      0.80        60\n",
      "\n"
     ]
    }
   ],
   "source": [
    "#train Gradient Boosting Classifier\n",
    "from sklearn.ensemble import GradientBoostingClassifier\n",
    "\n",
    "# train the model\n",
    "gbc_1 = GradientBoostingClassifier()\n",
    "\n",
    "#fitting the model to the training set.\n",
    "gbc_1.fit(X_train, y_train) \n",
    "\n",
    "# make predictions on the test dataset\n",
    "y_pred_1 = gbc_1.predict(X_test)\n",
    "\n",
    "#---------------------------------Evaluating the model---------------------------------\n",
    "\n",
    "# Evaluate the model performance\n",
    "from sklearn.metrics import accuracy_score, precision_score, recall_score, f1_score\n",
    "print(\"\\n----------Initial Gradient Boosting Metrics----------\\n\")\n",
    "print(\"Accuracy:\", accuracy_score(y_test, y_pred_1))\n",
    "print(\"Precision:\", precision_score(y_test, y_pred_1))\n",
    "print(\"Recall:\", recall_score(y_test, y_pred_1))\n",
    "print(\"F1 Score:\", f1_score(y_test, y_pred_1))\n",
    "#meaning of accuracy score: 0.9 means 90% of the predictions are correct\n",
    "\n",
    "#classification_report\n",
    "print(\"\\n----------Initial Classification Report----------\\n\")\n",
    "from sklearn.metrics import classification_report\n",
    "cr = classification_report(y_test, y_pred_1)\n",
    "print(cr)"
   ]
  },
  {
   "cell_type": "code",
   "execution_count": 10,
   "metadata": {},
   "outputs": [
    {
     "name": "stdout",
     "output_type": "stream",
     "text": [
      "[[19  5]\n",
      " [ 7 29]]\n"
     ]
    },
    {
     "data": {
      "image/png": "[encoded data removed]",
      "text/plain": [
       "<Figure size 640x480 with 2 Axes>"
      ]
     },
     "metadata": {},
     "output_type": "display_data"
    }
   ],
   "source": [
    "#get the confusion matrix\n",
    "from sklearn.metrics import confusion_matrix\n",
    "cm = confusion_matrix(y_test, y_pred_1)\n",
    "print(cm)\n",
    "\n",
    "#visualize the confusion matrix\n",
    "import matplotlib.pyplot as plt\n",
    "import seaborn as sns\n",
    "sns.heatmap(cm, annot=True, fmt=\"d\") #fmt=\"d\" means the values in the matrix are integers  \n",
    "#annot=True means the values in the matrix are displayed\n",
    "plt.title(\"Confusion Matrix\")\n",
    "plt.xlabel(\"Predicted\")\n",
    "plt.ylabel(\"Actual\")\n",
    "plt.show()"
   ]
  },
  {
   "attachments": {},
   "cell_type": "markdown",
   "metadata": {},
   "source": [
    "# Grid Search"
   ]
  },
  {
   "cell_type": "code",
   "execution_count": 31,
   "metadata": {},
   "outputs": [
    {
     "name": "stdout",
     "output_type": "stream",
     "text": [
      "Fitting 3 folds for each of 720 candidates, totalling 2160 fits\n",
      "\n",
      "best estimator:  GradientBoostingClassifier(learning_rate=0.01, max_depth=1, max_features='sqrt',\n",
      "                           random_state=42, subsample=0.5)\n",
      "best score:   0.862595971959497\n",
      "best params:  {'learning_rate': 0.01, 'max_depth': 1, 'max_features': 'sqrt', 'n_estimators': 100, 'random_state': 42, 'subsample': 0.5}\n"
     ]
    }
   ],
   "source": [
    "#grid search for best parameters\n",
    "from sklearn.model_selection import GridSearchCV\n",
    "param_grid = {\n",
    "    'random_state' : [42],\n",
    "    'learning_rate': [0.1, 0.01, 0.001],\n",
    "    'n_estimators': [30, 40, 50, 100, 200],\n",
    "    'max_depth': [1, 2, 3, 5],\n",
    "    'max_features': [None, 'sqrt', 'log2'],\n",
    "    'subsample': [0.1, 0.5, 0.7, 1.0],\n",
    "}\n",
    "\n",
    "# Instantiate the grid search model\n",
    "grid_search = GridSearchCV(estimator = GradientBoostingClassifier(), param_grid = param_grid,\n",
    "                            cv = 3, n_jobs = -1, verbose = 1, scoring='f1')\n",
    "\n",
    "# Fit the grid search to the data\n",
    "gbc = grid_search.fit(X_train, y_train)\n",
    "\n",
    "#finding the best estimator:\n",
    "print(\"\\nbest estimator: \", gbc.best_estimator_)\n",
    "#finding the best score:\n",
    "print(\"best score:  \", gbc.best_score_)\n",
    "#finding the best parameters:\n",
    "print(\"best params: \", gbc.best_params_)\n"
   ]
  },
  {
   "attachments": {},
   "cell_type": "markdown",
   "metadata": {},
   "source": [
    "# Final Model"
   ]
  },
  {
   "cell_type": "code",
   "execution_count": 32,
   "metadata": {},
   "outputs": [
    {
     "name": "stdout",
     "output_type": "stream",
     "text": [
      "\n",
      "----------Gradient Boosting Metrics----------\n",
      "\n",
      "Accuracy: 0.9\n",
      "Precision: 0.875\n",
      "Recall: 0.9722222222222222\n",
      "F1 Score: 0.9210526315789473\n",
      "\n",
      "----------Classification Report----------\n",
      "\n",
      "              precision    recall  f1-score   support\n",
      "\n",
      "           0       0.95      0.79      0.86        24\n",
      "           1       0.88      0.97      0.92        36\n",
      "\n",
      "    accuracy                           0.90        60\n",
      "   macro avg       0.91      0.88      0.89        60\n",
      "weighted avg       0.90      0.90      0.90        60\n",
      "\n"
     ]
    }
   ],
   "source": [
    "'''\n",
    "GradientBoostingClassifier(learning_rate=0.01, max_features='sqrt',\n",
    "                           min_samples_leaf=4, n_estimators=200,\n",
    "                           random_state=42)\n",
    "'''\n",
    "#test the new model with hyperparameters tuned by grid search:\n",
    "#make predictions on the test dataset\n",
    "y_pred = gbc.predict(X_test)\n",
    "\n",
    "# Evaluate the model performance\n",
    "from sklearn.metrics import accuracy_score, precision_score, recall_score, f1_score\n",
    "print(\"\\n----------Gradient Boosting Metrics----------\\n\")\n",
    "print(\"Accuracy:\", accuracy_score(y_test, y_pred))\n",
    "print(\"Precision:\", precision_score(y_test, y_pred))\n",
    "print(\"Recall:\", recall_score(y_test, y_pred))\n",
    "print(\"F1 Score:\", f1_score(y_test, y_pred))\n",
    "\n",
    "#classification_report\n",
    "print(\"\\n----------Classification Report----------\\n\")\n",
    "from sklearn.metrics import classification_report\n",
    "cr = classification_report(y_test, y_pred)\n",
    "print(cr)\n",
    "\n"
   ]
  },
  {
   "attachments": {},
   "cell_type": "markdown",
   "metadata": {},
   "source": [
    "## Confusion Matrix"
   ]
  },
  {
   "cell_type": "code",
   "execution_count": 33,
   "metadata": {},
   "outputs": [
    {
     "name": "stdout",
     "output_type": "stream",
     "text": [
      "[[19  5]\n",
      " [ 1 35]]\n"
     ]
    },
    {
     "data": {
      "image/png": "[encoded data removed]",
      "text/plain": [
       "<Figure size 640x480 with 2 Axes>"
      ]
     },
     "metadata": {},
     "output_type": "display_data"
    }
   ],
   "source": [
    "#get the confusion matrix\n",
    "from sklearn.metrics import confusion_matrix\n",
    "cm = confusion_matrix(y_test, y_pred)\n",
    "print(cm)\n",
    "\n",
    "#visualize the confusion matrix\n",
    "import matplotlib.pyplot as plt\n",
    "import seaborn as sns\n",
    "sns.heatmap(cm, annot=True, fmt=\"d\") #fmt=\"d\" means the values in the matrix are integers  \n",
    "#annot=True means the values in the matrix are displayed\n",
    "plt.title(\"Confusion Matrix\")\n",
    "plt.xlabel(\"Predicted\")\n",
    "plt.ylabel(\"Actual\")\n",
    "plt.show()"
   ]
  },
  {
   "attachments": {},
   "cell_type": "markdown",
   "metadata": {},
   "source": [
    "## Cross Validation"
   ]
  },
  {
   "cell_type": "code",
   "execution_count": 34,
   "metadata": {},
   "outputs": [
    {
     "name": "stdout",
     "output_type": "stream",
     "text": [
      "Fitting 3 folds for each of 720 candidates, totalling 2160 fits\n",
      "Fitting 3 folds for each of 720 candidates, totalling 2160 fits\n",
      "Fitting 3 folds for each of 720 candidates, totalling 2160 fits\n",
      "Fitting 3 folds for each of 720 candidates, totalling 2160 fits\n",
      "Fitting 3 folds for each of 720 candidates, totalling 2160 fits\n",
      "Fitting 3 folds for each of 720 candidates, totalling 2160 fits\n",
      "Fitting 3 folds for each of 720 candidates, totalling 2160 fits\n",
      "Fitting 3 folds for each of 720 candidates, totalling 2160 fits\n",
      "Fitting 3 folds for each of 720 candidates, totalling 2160 fits\n",
      "Fitting 3 folds for each of 720 candidates, totalling 2160 fits\n",
      "Fold 0 : 0.7741935483870968\n",
      "Fold 1 : 0.8461538461538461\n",
      "Fold 2 : 0.8799999999999999\n",
      "Fold 3 : 0.8666666666666666\n",
      "Fold 4 : 0.7692307692307693\n",
      "Fold 5 : 0.8275862068965517\n",
      "Fold 6 : 0.8387096774193548\n",
      "Fold 7 : 0.8799999999999999\n",
      "Fold 8 : 0.8695652173913043\n",
      "Fold 9 : 0.7857142857142857\n",
      "\n",
      "Mean: 0.8337820217859877\n",
      "Standard Deviation: 0.04108275738911593\n",
      "Variance: 0.00168779295469296\n"
     ]
    }
   ],
   "source": [
    "#cross validation for 10 folds\n",
    "#takes 3 mins to run\n",
    "from sklearn.model_selection import cross_val_score\n",
    "scores = cross_val_score(gbc, X_train, y_train, cv=10, scoring=\"f1\") #scoring can be accuracy, precision, recall, f1, roc_auc, etc\n",
    "#get the scores for each fold\n",
    "for i in range(10):\n",
    "    print(\"Fold\", i, \":\", scores[i])\n",
    "    \n",
    "#get the mean of the scores\n",
    "print(\"\\nMean:\", scores.mean())\n",
    "#get the standard deviation of the scores\n",
    "print(\"Standard Deviation:\", scores.std()) #standard deviation is calculated for the scores of each fold\n",
    "#A low standard deviation indicates that the model is consistent in its performance across different subsets of the data, which is a good sign.\n",
    "#get the variance of the scores\n",
    "print(\"Variance:\", scores.var()) #variance is calculated for the scores of each fold\n",
    "#A low variance indicates that the model is consistent in its performance across different subsets of the data, which is a good sign.\n"
   ]
  },
  {
   "cell_type": "code",
   "execution_count": null,
   "metadata": {},
   "outputs": [],
   "source": []
  }
 ],
 "metadata": {
  "kernelspec": {
   "display_name": "Python 3",
   "language": "python",
   "name": "python3"
  },
  "language_info": {
   "codemirror_mode": {
    "name": "ipython",
    "version": 3
   },
   "file_extension": ".py",
   "mimetype": "text/x-python",
   "name": "python",
   "nbconvert_exporter": "python",
   "pygments_lexer": "ipython3",
   "version": "3.11.1"
  },
  "orig_nbformat": 4
 },
 "nbformat": 4,
 "nbformat_minor": 2
}
